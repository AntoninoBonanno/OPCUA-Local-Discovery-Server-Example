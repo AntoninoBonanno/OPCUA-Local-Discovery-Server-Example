{
 "cells": [
  {
   "cell_type": "code",
   "execution_count": 1,
   "metadata": {},
   "outputs": [
    {
     "name": "stdout",
     "output_type": "stream",
     "text": [
      "Requirement already satisfied: opcua in c:\\users\\mario\\anaconda3\\lib\\site-packages (0.98.11)\n",
      "Requirement already satisfied: pytz in c:\\users\\mario\\anaconda3\\lib\\site-packages (from opcua) (2019.3)\n",
      "Requirement already satisfied: python-dateutil in c:\\users\\mario\\anaconda3\\lib\\site-packages (from opcua) (2.8.0)\n",
      "Requirement already satisfied: lxml in c:\\users\\mario\\anaconda3\\lib\\site-packages (from opcua) (4.4.1)\n",
      "Requirement already satisfied: six>=1.5 in c:\\users\\mario\\anaconda3\\lib\\site-packages (from python-dateutil->opcua) (1.12.0)\n",
      "Note: you may need to restart the kernel to use updated packages.\n"
     ]
    }
   ],
   "source": [
    "pip install opcua"
   ]
  },
  {
   "cell_type": "code",
   "execution_count": 7,
   "metadata": {},
   "outputs": [],
   "source": [
    "import sys\n",
    "sys.path.insert(0, \"..\")"
   ]
  },
  {
   "cell_type": "code",
   "execution_count": 8,
   "metadata": {},
   "outputs": [],
   "source": [
    "from opcua import Client"
   ]
  },
  {
   "cell_type": "code",
   "execution_count": 12,
   "metadata": {
    "scrolled": true
   },
   "outputs": [
    {
     "name": "stderr",
     "output_type": "stream",
     "text": [
      "Requested secure channel timeout to be 3600000ms, got 600000ms instead\n",
      "Requested session timeout to be 600000ms, got 3000000ms instead\n"
     ]
    },
    {
     "name": "stdout",
     "output_type": "stream",
     "text": [
      "Root node is:  Node(TwoByteNodeId(i=84))\n",
      "Objects node is:  Node(TwoByteNodeId(i=85))\n",
      "Children of root are:  [Node(TwoByteNodeId(i=85)), Node(TwoByteNodeId(i=86)), Node(TwoByteNodeId(i=87))]\n",
      "Node(StringNodeId(ns=1;s=free_memory))\n",
      "41.77833072547468\n"
     ]
    }
   ],
   "source": [
    "if __name__ == \"__main__\":\n",
    "\n",
    "    client = Client(\"opc.tcp://MARIO-PC:4334/UA/BiusoBonannoLDS\")\n",
    "    # client = Client(\"opc.tcp://admin@localhost:4840/freeopcua/server/\") #connect using a user\n",
    "    try:\n",
    "        client.connect()\n",
    "\n",
    "        # Client has a few methods to get proxy to UA nodes that should always be in address space such as Root or Objects\n",
    "        root = client.get_root_node()\n",
    "        print(\"Root node is: \", root)\n",
    "        objects = client.get_objects_node()\n",
    "        print(\"Objects node is: \", objects)\n",
    "\n",
    "        # Node objects have methods to read and write node attributes as well as browse or populate address space\n",
    "        print(\"Children of root are: \", root.get_children())\n",
    "\n",
    "        # get a specific node knowing its node id\n",
    "        #var = client.get_node(ua.NodeId(1002, 2))\n",
    "        #var = client.get_node(\"ns=3;i=2002\")\n",
    "        var = client.get_node(\"ns=1;s=free_memory\")\n",
    "        print(var)\n",
    "        #var.get_data_value() # get value of node as a DataValue object\n",
    "        var2=var.get_value() # get value of node as a python builtin\n",
    "        print(var2)\n",
    "        #var.set_value(ua.Variant([23], ua.VariantType.Int64)) #set node value using explicit data type\n",
    "        #var.set_value(3.9) # set node value using implicit data type\n",
    "\n",
    "        # Now getting a variable node using its browse path\n",
    "        #myvar = root.get_child([\"0:Objects\", \"2:MyObject\", \"2:MyVariable\"])\n",
    "        #obj = root.get_child([\"0:Objects\", \"2:MyObject\"])\n",
    "        #print(\"myvar is: \", myvar)\n",
    "        #print(\"myobj is: \", obj)\n",
    "        \n",
    "\n",
    "        # Stacked myvar access\n",
    "        #print(\"myvar is: \", root.get_children()[0].get_children()[1].get_variables()[0].get_value())\n",
    "\n",
    "    finally:\n",
    "        client.disconnect()"
   ]
  },
  {
   "cell_type": "code",
   "execution_count": null,
   "metadata": {},
   "outputs": [],
   "source": []
  }
 ],
 "metadata": {
  "kernelspec": {
   "display_name": "Python 3",
   "language": "python",
   "name": "python3"
  },
  "language_info": {
   "codemirror_mode": {
    "name": "ipython",
    "version": 3
   },
   "file_extension": ".py",
   "mimetype": "text/x-python",
   "name": "python",
   "nbconvert_exporter": "python",
   "pygments_lexer": "ipython3",
   "version": "3.7.4"
  }
 },
 "nbformat": 4,
 "nbformat_minor": 4
}
