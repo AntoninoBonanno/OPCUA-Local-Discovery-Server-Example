{
 "cells": [
  {
   "cell_type": "code",
   "execution_count": 1,
   "metadata": {},
   "outputs": [],
   "source": [
    "pip install opcua #conda install -c conda-forge opcua"
   ]
  },
  {
   "cell_type": "code",
   "execution_count": 1,
   "metadata": {},
   "outputs": [],
   "source": [
    "import sys\n",
    "sys.path.insert(0, \"..\")\n",
    "import time\n",
    "import psutil"
   ]
  },
  {
   "cell_type": "code",
   "execution_count": 2,
   "metadata": {},
   "outputs": [],
   "source": [
    "from opcua import ua, Server"
   ]
  },
  {
   "cell_type": "code",
   "execution_count": 7,
   "metadata": {
    "scrolled": true
   },
   "outputs": [
    {
     "output_type": "stream",
     "name": "stderr",
     "text": "Endpoints other than open requested but private key and certificate are not set.\nListening on 0.0.0.0:4884\nThe primary server endpoint url is opc.tcp://localhost:4884/UA/BiusoBonannoServer\n"
    },
    {
     "output_type": "error",
     "ename": "KeyboardInterrupt",
     "evalue": "",
     "traceback": [
      "\u001b[1;31m---------------------------------------------------------------------------\u001b[0m",
      "\u001b[1;31mKeyboardInterrupt\u001b[0m                         Traceback (most recent call last)",
      "\u001b[1;32m<ipython-input-7-a51062dcfccd>\u001b[0m in \u001b[0;36m<module>\u001b[1;34m\u001b[0m\n\u001b[0;32m     27\u001b[0m         \u001b[0mcount\u001b[0m \u001b[1;33m=\u001b[0m \u001b[1;36m0\u001b[0m\u001b[1;33m\u001b[0m\u001b[1;33m\u001b[0m\u001b[0m\n\u001b[0;32m     28\u001b[0m         \u001b[1;32mwhile\u001b[0m \u001b[1;32mTrue\u001b[0m\u001b[1;33m:\u001b[0m\u001b[1;33m\u001b[0m\u001b[1;33m\u001b[0m\u001b[0m\n\u001b[1;32m---> 29\u001b[1;33m             \u001b[0mtime\u001b[0m\u001b[1;33m.\u001b[0m\u001b[0msleep\u001b[0m\u001b[1;33m(\u001b[0m\u001b[1;36m1\u001b[0m\u001b[1;33m)\u001b[0m\u001b[1;33m\u001b[0m\u001b[1;33m\u001b[0m\u001b[0m\n\u001b[0m\u001b[0;32m     30\u001b[0m             \u001b[0mcount\u001b[0m \u001b[1;33m+=\u001b[0m \u001b[1;36m0.1\u001b[0m\u001b[1;33m\u001b[0m\u001b[1;33m\u001b[0m\u001b[0m\n\u001b[0;32m     31\u001b[0m             \u001b[0mcounterVar\u001b[0m\u001b[1;33m.\u001b[0m\u001b[0mset_value\u001b[0m\u001b[1;33m(\u001b[0m\u001b[0mcount\u001b[0m\u001b[1;33m)\u001b[0m\u001b[1;33m\u001b[0m\u001b[1;33m\u001b[0m\u001b[0m\n",
      "\u001b[1;31mKeyboardInterrupt\u001b[0m: "
     ]
    }
   ],
   "source": [
    "if __name__ == \"__main__\":\n",
    "\n",
    "    nameServer = \"UA/BiusoBonannoServer\"\n",
    "    server = Server()\n",
    "    server.set_endpoint(\"opc.tcp://0.0.0.0:4884/\"+nameServer)\n",
    "    \n",
    "    # setup our own namespace, not really necessary but should as spec\n",
    "    uri = \"defaultUri\"\n",
    "    idx = server.register_namespace(uri)\n",
    "\n",
    "    # get Objects node, this is where we should put our nodes\n",
    "    objects = server.get_objects_node()\n",
    "\n",
    "    # populating our address space\n",
    "    myobj = objects.add_object(idx, \"MyObject\")\n",
    "    counterVar = myobj.add_variable(idx, \"Counter\", 0)\n",
    "    counterVar.set_writable()    \n",
    "\n",
    "    freeMemoryVar = myobj.add_variable(idx, \"FreeMemory\", 0)\n",
    "    freeMemoryVar.set_writable()\n",
    "\n",
    "    # starting!\n",
    "    server.start()\n",
    "\n",
    "    print(\"The primary server endpoint url is opc.tcp://localhost:4884/\"+nameServer)\n",
    "    try:\n",
    "        count = 0\n",
    "        while True:\n",
    "            time.sleep(1)\n",
    "            count += 0.1\n",
    "            counterVar.set_value(count)\n",
    "            freeMemoryVar.set_value(psutil.virtual_memory().free)\n",
    "    finally:\n",
    "        #close connection, remove subcsriptions, etc\n",
    "        server.stop()"
   ]
  },
  {
   "cell_type": "code",
   "execution_count": null,
   "metadata": {},
   "outputs": [],
   "source": []
  }
 ],
 "metadata": {
  "kernelspec": {
   "display_name": "Python 3",
   "language": "python",
   "name": "python3"
  },
  "language_info": {
   "codemirror_mode": {
    "name": "ipython",
    "version": 3
   },
   "file_extension": ".py",
   "mimetype": "text/x-python",
   "name": "python",
   "nbconvert_exporter": "python",
   "pygments_lexer": "ipython3",
   "version": "3.6.8-final"
  }
 },
 "nbformat": 4,
 "nbformat_minor": 4
}